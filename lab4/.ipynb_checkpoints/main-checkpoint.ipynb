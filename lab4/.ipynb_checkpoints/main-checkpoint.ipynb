{
 "cells": [
  {
   "cell_type": "markdown",
   "metadata": {},
   "source": [
    "# ПР4 / ВИВІДНА СТАТИСТИКА\n",
    "\n",
    "### Мета роботи: ознайомитись з\n",
    "<ul>\n",
    "  <li>методикою визначення інтервальних оцінок параметрів розподілу; дослідити, що впливає на якість інтервальних оцінок;</li>\n",
    "  <li>методами визначення точкових оцінок параметрів розподілу; дослідити, що впливає на якість точкових оцінок;</li>\n",
    "  <li>методикою визначення інтервальних оцінок параметрів розподілу; дослідити, що впливає на якість інтервальних оцінок;</li>\n",
    "  <li>методами перевірки статистичних гіпотез про вигляд закону розподілу; дослідити, що впливає на ширину критичної області.</li>\n",
    "</ul>\n",
    "\n",
    "## Виконав: ІП-13 Бондаренко М.В.\n",
    "## Перевірила: Ліхоузова Т. А."
   ]
  },
  {
   "cell_type": "markdown",
   "metadata": {},
   "source": [
    "## Основне завдання:\n",
    "\n",
    "Скачати дані файлу Data2.csv.\n",
    "\n",
    "1. Подивитись, проаналізувати структуру.\n",
    "2. Вказати, чи є параметри, що розподілені за нормальним законом.\n",
    "3. Перевірити середні та медіани на значимість.\n",
    "4. Вказати, в якому регіоні розподіл викидів СО2 найбільш близький до нормального.\n",
    "5. Побудувати кругову діаграму населення по регіонам."
   ]
  },
  {
   "cell_type": "markdown",
   "metadata": {},
   "source": [
    "###### 1. Подивитись, проаналізувати структуру."
   ]
  },
  {
   "cell_type": "markdown",
   "metadata": {},
   "source": [
    "Завантажимо дані в dataframe та виведемо загальну структуру даних."
   ]
  },
  {
   "cell_type": "code",
   "execution_count": 34,
   "metadata": {},
   "outputs": [
    {
     "name": "stdout",
     "output_type": "stream",
     "text": [
      "<class 'pandas.core.frame.DataFrame'>\n",
      "RangeIndex: 217 entries, 0 to 216\n",
      "Data columns (total 6 columns):\n",
      " #   Column          Non-Null Count  Dtype  \n",
      "---  ------          --------------  -----  \n",
      " 0   Country Name    217 non-null    object \n",
      " 1   Region          217 non-null    object \n",
      " 2   GDP per capita  190 non-null    float64\n",
      " 3   Populatiion     216 non-null    float64\n",
      " 4   CO2 emission    205 non-null    float64\n",
      " 5   Area            217 non-null    float64\n",
      "dtypes: float64(4), object(2)\n",
      "memory usage: 10.3+ KB\n"
     ]
    }
   ],
   "source": [
    "import pandas as pd\n",
    "\n",
    "df = pd.read_csv('Data2.csv', delimiter=';', decimal=',')\n",
    "df.info()"
   ]
  },
  {
   "cell_type": "markdown",
   "metadata": {},
   "source": [
    "Змінимо назви колонок з помилками."
   ]
  },
  {
   "cell_type": "code",
   "execution_count": 35,
   "metadata": {},
   "outputs": [],
   "source": [
    "df = df.rename(columns={'Populatiion': 'Population'})"
   ]
  },
  {
   "cell_type": "markdown",
   "metadata": {},
   "source": [
    "Заповнимо пусті значення середніми значеннями колонок, в яких вони розташовані."
   ]
  },
  {
   "cell_type": "code",
   "execution_count": 36,
   "metadata": {},
   "outputs": [],
   "source": [
    "for col in df.columns:\n",
    "    if df[col].dtype == float:\n",
    "        col_mean = df[col].mean()\n",
    "        df[col] = df[col].fillna(col_mean)"
   ]
  },
  {
   "cell_type": "markdown",
   "metadata": {},
   "source": [
    "Перевірими стовпці на наявність пустих значень."
   ]
  },
  {
   "cell_type": "code",
   "execution_count": 37,
   "metadata": {
    "scrolled": false
   },
   "outputs": [
    {
     "data": {
      "text/plain": [
       "Country Name      False\n",
       "Region            False\n",
       "GDP per capita    False\n",
       "Population        False\n",
       "CO2 emission      False\n",
       "Area              False\n",
       "dtype: bool"
      ]
     },
     "execution_count": 37,
     "metadata": {},
     "output_type": "execute_result"
    }
   ],
   "source": [
    "df.isna().any()"
   ]
  },
  {
   "cell_type": "markdown",
   "metadata": {},
   "source": [
    "Від'ємні зачення візьмемо за модулем."
   ]
  },
  {
   "cell_type": "code",
   "execution_count": 38,
   "metadata": {},
   "outputs": [],
   "source": [
    "for col in df.columns:\n",
    "    if df[col].dtype == float:\n",
    "        df[col] = df[col].abs()"
   ]
  },
  {
   "cell_type": "code",
   "execution_count": 39,
   "metadata": {},
   "outputs": [
    {
     "data": {
      "text/html": [
       "<div>\n",
       "<style scoped>\n",
       "    .dataframe tbody tr th:only-of-type {\n",
       "        vertical-align: middle;\n",
       "    }\n",
       "\n",
       "    .dataframe tbody tr th {\n",
       "        vertical-align: top;\n",
       "    }\n",
       "\n",
       "    .dataframe thead th {\n",
       "        text-align: right;\n",
       "    }\n",
       "</style>\n",
       "<table border=\"1\" class=\"dataframe\">\n",
       "  <thead>\n",
       "    <tr style=\"text-align: right;\">\n",
       "      <th></th>\n",
       "      <th>GDP per capita</th>\n",
       "      <th>Population</th>\n",
       "      <th>CO2 emission</th>\n",
       "      <th>Area</th>\n",
       "    </tr>\n",
       "  </thead>\n",
       "  <tbody>\n",
       "    <tr>\n",
       "      <th>count</th>\n",
       "      <td>217.000000</td>\n",
       "      <td>2.170000e+02</td>\n",
       "      <td>2.170000e+02</td>\n",
       "      <td>2.170000e+02</td>\n",
       "    </tr>\n",
       "    <tr>\n",
       "      <th>mean</th>\n",
       "      <td>13436.789146</td>\n",
       "      <td>3.432256e+07</td>\n",
       "      <td>1.651141e+05</td>\n",
       "      <td>6.188441e+05</td>\n",
       "    </tr>\n",
       "    <tr>\n",
       "      <th>std</th>\n",
       "      <td>16873.938339</td>\n",
       "      <td>1.344477e+08</td>\n",
       "      <td>8.100511e+05</td>\n",
       "      <td>1.827830e+06</td>\n",
       "    </tr>\n",
       "    <tr>\n",
       "      <th>min</th>\n",
       "      <td>285.727442</td>\n",
       "      <td>1.109700e+04</td>\n",
       "      <td>1.100100e+01</td>\n",
       "      <td>2.000000e+00</td>\n",
       "    </tr>\n",
       "    <tr>\n",
       "      <th>25%</th>\n",
       "      <td>2361.160205</td>\n",
       "      <td>7.956010e+05</td>\n",
       "      <td>1.954511e+03</td>\n",
       "      <td>1.088700e+04</td>\n",
       "    </tr>\n",
       "    <tr>\n",
       "      <th>50%</th>\n",
       "      <td>7179.340661</td>\n",
       "      <td>6.293253e+06</td>\n",
       "      <td>1.156205e+04</td>\n",
       "      <td>9.303000e+04</td>\n",
       "    </tr>\n",
       "    <tr>\n",
       "      <th>75%</th>\n",
       "      <td>14428.140260</td>\n",
       "      <td>2.369592e+07</td>\n",
       "      <td>8.256251e+04</td>\n",
       "      <td>4.474200e+05</td>\n",
       "    </tr>\n",
       "    <tr>\n",
       "      <th>max</th>\n",
       "      <td>100738.684200</td>\n",
       "      <td>1.378665e+09</td>\n",
       "      <td>1.029193e+07</td>\n",
       "      <td>1.709825e+07</td>\n",
       "    </tr>\n",
       "  </tbody>\n",
       "</table>\n",
       "</div>"
      ],
      "text/plain": [
       "       GDP per capita    Population  CO2 emission          Area\n",
       "count      217.000000  2.170000e+02  2.170000e+02  2.170000e+02\n",
       "mean     13436.789146  3.432256e+07  1.651141e+05  6.188441e+05\n",
       "std      16873.938339  1.344477e+08  8.100511e+05  1.827830e+06\n",
       "min        285.727442  1.109700e+04  1.100100e+01  2.000000e+00\n",
       "25%       2361.160205  7.956010e+05  1.954511e+03  1.088700e+04\n",
       "50%       7179.340661  6.293253e+06  1.156205e+04  9.303000e+04\n",
       "75%      14428.140260  2.369592e+07  8.256251e+04  4.474200e+05\n",
       "max     100738.684200  1.378665e+09  1.029193e+07  1.709825e+07"
      ]
     },
     "execution_count": 39,
     "metadata": {},
     "output_type": "execute_result"
    }
   ],
   "source": [
    "df.describe()"
   ]
  },
  {
   "cell_type": "markdown",
   "metadata": {},
   "source": [
    "###### 2. Вказати, чи є параметри, що розподілені за нормальним законом."
   ]
  },
  {
   "cell_type": "markdown",
   "metadata": {},
   "source": [
    "Щоб визначити, чи є параметри з датафрейму, розподілені за нормальним законом, можна використати тест на нормальність. Один з таких тестів - тест Шапіро-Вілка. Застосуємо критерій нормальності Шапіро-Вілка, де рівень значущості буде дорівнювати 0.05"
   ]
  },
  {
   "cell_type": "code",
   "execution_count": 40,
   "metadata": {},
   "outputs": [
    {
     "name": "stdout",
     "output_type": "stream",
     "text": [
      "Дані в колонці GDP per capita не мають нормального розподілу, оскільки p value = 0.0, що менше за alpha.\n",
      "Дані в колонці Population не мають нормального розподілу, оскільки p value = 0.0, що менше за alpha.\n",
      "Дані в колонці CO2 emission не мають нормального розподілу, оскільки p value = 0.0, що менше за alpha.\n",
      "Дані в колонці Area не мають нормального розподілу, оскільки p value = 0.0, що менше за alpha.\n"
     ]
    }
   ],
   "source": [
    "from scipy.stats import shapiro\n",
    "\n",
    "for column in df.select_dtypes(include='float'):\n",
    "    stats, p_value = shapiro(df[column])\n",
    "    alpha = 0.05\n",
    "    if p_value > alpha:\n",
    "        print(f\"Дані в колонці {column} мають нормальний розподіл, оскільки p value = {round(p_value, 5)}, що більше за alpha.\")\n",
    "    else:\n",
    "        print(f\"Дані в колонці {column} не мають нормального розподілу, оскільки p value = {round(p_value, 5)}, що менше за alpha.\")"
   ]
  },
  {
   "cell_type": "markdown",
   "metadata": {},
   "source": [
    "###### 3.  Перевіримо гіпотезу про рівність середнього і медіани для одного з параметрів."
   ]
  },
  {
   "cell_type": "code",
   "execution_count": 44,
   "metadata": {},
   "outputs": [
    {
     "name": "stdout",
     "output_type": "stream",
     "text": [
      "Гіпотеза є помилкою.\n"
     ]
    }
   ],
   "source": [
    "from scipy.stats import ttest_1samp\n",
    "\n",
    "alpha = 0.05\n",
    "data = df['Population']\n",
    "stat, p = ttest_1samp(data, data.median())\n",
    "\n",
    "if p > alpha:\n",
    "    print('Гіпотеза є істиною.')\n",
    "else:\n",
    "    print('Гіпотеза є помилкою.')"
   ]
  },
  {
   "cell_type": "markdown",
   "metadata": {},
   "source": [
    "###### 4. Вказати, в якому регіоні розподіл викидів СО2 найбільш близький до нормального."
   ]
  },
  {
   "cell_type": "code",
   "execution_count": 42,
   "metadata": {},
   "outputs": [
    {
     "name": "stdout",
     "output_type": "stream",
     "text": [
      "p value регіону South Asia: 0.0\n",
      "p value регіону Europe & Central Asia: 0.0\n",
      "p value регіону Middle East & North Africa: 0.0\n",
      "p value регіону East Asia & Pacific: 0.0\n",
      "p value регіону Sub-Saharan Africa: 0.0\n",
      "p value регіону Latin America & Caribbean: 0.0\n",
      "p value регіону North America: 0.18\n",
      "Регіон з найбільш близьким розподілом до нормального:  North America\n"
     ]
    }
   ],
   "source": [
    "p_values = {}\n",
    "for region in df['Region'].unique():\n",
    "    data = df[df['Region'] == region]['CO2 emission']\n",
    "    stat, p = shapiro(data)\n",
    "    p_values[region] = p\n",
    "    print(f\"p value регіону {region}: {round(p, 2)}\")\n",
    "\n",
    "most_normal_region = max(p_values, key=p_values.get)\n",
    "print(\"Регіон з найбільш близьким розподілом до нормального: \", most_normal_region)"
   ]
  },
  {
   "cell_type": "markdown",
   "metadata": {},
   "source": [
    "###### 5. Побудувати кругову діаграму населення по регіонам."
   ]
  },
  {
   "cell_type": "code",
   "execution_count": 43,
   "metadata": {},
   "outputs": [
    {
     "data": {
      "image/png": "[encoded data removed]",
      "text/plain": [
       "<Figure size 640x480 with 1 Axes>"
      ]
     },
     "metadata": {},
     "output_type": "display_data"
    }
   ],
   "source": [
    "import matplotlib.pyplot as plt\n",
    "\n",
    "grouped = df.groupby('Region')['Population'].sum().reset_index()\n",
    "\n",
    "plt.pie(grouped['Population'], labels=grouped['Region'], autopct='%1.1f%%')\n",
    "plt.title('Population by Region')\n",
    "\n",
    "plt.show()"
   ]
  },
  {
   "cell_type": "code",
   "execution_count": null,
   "metadata": {},
   "outputs": [],
   "source": []
  }
 ],
 "metadata": {
  "kernelspec": {
   "display_name": "Python 3 (ipykernel)",
   "language": "python",
   "name": "python3"
  },
  "language_info": {
   "codemirror_mode": {
    "name": "ipython",
    "version": 3
   },
   "file_extension": ".py",
   "mimetype": "text/x-python",
   "name": "python",
   "nbconvert_exporter": "python",
   "pygments_lexer": "ipython3",
   "version": "3.10.9"
  }
 },
 "nbformat": 4,
 "nbformat_minor": 1
}
